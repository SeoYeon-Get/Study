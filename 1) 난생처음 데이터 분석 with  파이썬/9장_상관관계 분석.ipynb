{
  "nbformat": 4,
  "nbformat_minor": 0,
  "metadata": {
    "colab": {
      "provenance": []
    },
    "kernelspec": {
      "name": "python3",
      "display_name": "Python 3"
    },
    "language_info": {
      "name": "python"
    }
  },
  "cells": [
    {
      "cell_type": "markdown",
      "source": [
        "## **9장. 상관관계 분석**"
      ],
      "metadata": {
        "id": "mbI6W7SDO22F"
      }
    },
    {
      "cell_type": "code",
      "execution_count": null,
      "metadata": {
        "id": "aRIT6iN2Ozev"
      },
      "outputs": [],
      "source": [
        "#상관관계 분석(Correlation analysis, 상관분석) : 두 변수 사이의 관계의 강도와 방향을 파악하는 통계 기법\n",
        "# - 상관분석 : 상관관계를 수치로 나타내어 정량화하는 방법\n",
        "# - 상관계수(Correlation coefficient) : 상관관계의 강도를 나타낸 수치, -1 이상 1 이하의 값\n",
        "# 양의 상관관계 : 변수 x가 커질수록 변수 y도 커진다.\n",
        "# 음의 상관관계 : 변수 x가 커질수록 변수 y는 작아진다.\n",
        "# 상관관계 없음 : 변수 x가 커질 때 변수 y는 커질 수도, 작아질 수도 있다.\n",
        "# 0.5 < 상관계수 <= 1 -> 강한 상관관계, |상관계수| < 0.5 -> 약한 상관관계\n",
        "\n",
        "#상관관계 분석 방법\n",
        "# - 피어슨 상관분석(Pearson correlation analysis) : 가장 일반적\n",
        "# - 스피어만 상관분석(Spearman correlation analysis) : 두 변수가 정규성(Nomality)을 보이지 않을 때 사용\n",
        "# - 켄달 상관분석(Kendall correlation analysis) : 표본데이터가 적고 동점이 많을 때 사용하기 적합함"
      ]
    },
    {
      "cell_type": "code",
      "source": [
        "#피어슨 상관분석\n",
        "\n",
        "import pandas as pd\n",
        "engListening = [30, 60, 90]\n",
        "engScore = [70, 80, 90]\n",
        "\n",
        "data = {'engListening' : engListening, 'engScore' : engScore}\n",
        "df = pd.DataFrame(data)\n",
        "\n",
        "#상관분석 수행하기\n",
        "coef = df.corr(method = 'pearson')\n",
        "print(coef)"
      ],
      "metadata": {
        "colab": {
          "base_uri": "https://localhost:8080/"
        },
        "id": "5q3zyg0VD4s3",
        "outputId": "6afd80f8-d396-4af6-e13c-f534f3909f26"
      },
      "execution_count": null,
      "outputs": [
        {
          "output_type": "stream",
          "name": "stdout",
          "text": [
            "              engListening  engScore\n",
            "engListening           1.0       1.0\n",
            "engScore               1.0       1.0\n"
          ]
        }
      ]
    },
    {
      "cell_type": "code",
      "source": [
        "import matplotlib.pyplot as plt\n",
        "\n",
        "engListening = [30, 60, 90, 31, 32, 69, 92, 99]\n",
        "engScore = [70, 80, 90, 70, 71, 85, 90, 92]\n",
        "data2 = {'engListening' : engListening, 'engScore' : engScore}\n",
        "df2 = pd.DataFrame(data2)\n",
        "\n",
        "plt.scatter(df2['engListening'], df2['engScore'])\n",
        "plt.show()"
      ],
      "metadata": {
        "colab": {
          "base_uri": "https://localhost:8080/",
          "height": 430
        },
        "id": "Ayp99lv0D4qy",
        "outputId": "3faa3087-13d5-40de-b04e-a00ee5f11543"
      },
      "execution_count": null,
      "outputs": [
        {
          "output_type": "display_data",
          "data": {
            "text/plain": [
              "<Figure size 640x480 with 1 Axes>"
            ],
            "image/png": "[encoded data removed]"
          },
          "metadata": {}
        }
      ]
    },
    {
      "cell_type": "code",
      "source": [
        "coef = df2.corr(method = 'pearson')\n",
        "print(coef)"
      ],
      "metadata": {
        "colab": {
          "base_uri": "https://localhost:8080/"
        },
        "id": "9WoaVmKpD4ol",
        "outputId": "9c356a3e-d009-47c2-cabf-d6e209bc743a"
      },
      "execution_count": null,
      "outputs": [
        {
          "output_type": "stream",
          "name": "stdout",
          "text": [
            "              engListening  engScore\n",
            "engListening      1.000000  0.995829\n",
            "engScore          0.995829  1.000000\n"
          ]
        }
      ]
    },
    {
      "cell_type": "code",
      "source": [
        "#스피어만 상관분석과 켄달 상관분석\n",
        "spearmanCoef = df2.corr(method = 'spearman')\n",
        "print(spearmanCoef)\n",
        "\n",
        "kendallCoef = df2.corr(method = 'kendall')\n",
        "print(kendallCoef)"
      ],
      "metadata": {
        "colab": {
          "base_uri": "https://localhost:8080/"
        },
        "id": "gwB3SSwiD4mC",
        "outputId": "b4e7ac95-db8e-49b6-80a8-78d6d6fba06d"
      },
      "execution_count": null,
      "outputs": [
        {
          "output_type": "stream",
          "name": "stdout",
          "text": [
            "              engListening  engScore\n",
            "engListening      1.000000  0.988024\n",
            "engScore          0.988024  1.000000\n",
            "              engListening  engScore\n",
            "engListening      1.000000  0.963624\n",
            "engScore          0.963624  1.000000\n"
          ]
        }
      ]
    },
    {
      "cell_type": "code",
      "source": [
        "#데이터 추가\n",
        "\n",
        "engListening = [30, 60, 90, 31, 32, 69, 92, 99]\n",
        "engReading = [40, 45, 60, 20, 15, 70, 60, 80]\n",
        "engClass = [60, 120, 120, 60, 60, 180, 120, 120]\n",
        "engScore = [70, 80, 90, 70, 71, 85, 90, 92]\n",
        "\n",
        "data3 = {'engListening' : engListening, 'engReading' : engReading, 'endClass':engClass, 'engScore' : engScore}\n",
        "df3 = pd.DataFrame(data3)\n",
        "df3"
      ],
      "metadata": {
        "colab": {
          "base_uri": "https://localhost:8080/",
          "height": 300
        },
        "id": "jlrOihEID4jr",
        "outputId": "fc4508d5-aff4-4914-f875-035a5fb43bfb"
      },
      "execution_count": null,
      "outputs": [
        {
          "output_type": "execute_result",
          "data": {
            "text/plain": [
              "   engListening  engReading  endClass  engScore\n",
              "0            30          40        60        70\n",
              "1            60          45       120        80\n",
              "2            90          60       120        90\n",
              "3            31          20        60        70\n",
              "4            32          15        60        71\n",
              "5            69          70       180        85\n",
              "6            92          60       120        90\n",
              "7            99          80       120        92"
            ],
            "text/html": [
              "\n",
              "  <div id=\"df-bd56332b-35be-4fb1-887a-8de6f7a5429d\" class=\"colab-df-container\">\n",
              "    <div>\n",
              "<style scoped>\n",
              "    .dataframe tbody tr th:only-of-type {\n",
              "        vertical-align: middle;\n",
              "    }\n",
              "\n",
              "    .dataframe tbody tr th {\n",
              "        vertical-align: top;\n",
              "    }\n",
              "\n",
              "    .dataframe thead th {\n",
              "        text-align: right;\n",
              "    }\n",
              "</style>\n",
              "<table border=\"1\" class=\"dataframe\">\n",
              "  <thead>\n",
              "    <tr style=\"text-align: right;\">\n",
              "      <th></th>\n",
              "      <th>engListening</th>\n",
              "      <th>engReading</th>\n",
              "      <th>endClass</th>\n",
              "      <th>engScore</th>\n",
              "    </tr>\n",
              "  </thead>\n",
              "  <tbody>\n",
              "    <tr>\n",
              "      <th>0</th>\n",
              "      <td>30</td>\n",
              "      <td>40</td>\n",
              "      <td>60</td>\n",
              "      <td>70</td>\n",
              "    </tr>\n",
              "    <tr>\n",
              "      <th>1</th>\n",
              "      <td>60</td>\n",
              "      <td>45</td>\n",
              "      <td>120</td>\n",
              "      <td>80</td>\n",
              "    </tr>\n",
              "    <tr>\n",
              "      <th>2</th>\n",
              "      <td>90</td>\n",
              "      <td>60</td>\n",
              "      <td>120</td>\n",
              "      <td>90</td>\n",
              "    </tr>\n",
              "    <tr>\n",
              "      <th>3</th>\n",
              "      <td>31</td>\n",
              "      <td>20</td>\n",
              "      <td>60</td>\n",
              "      <td>70</td>\n",
              "    </tr>\n",
              "    <tr>\n",
              "      <th>4</th>\n",
              "      <td>32</td>\n",
              "      <td>15</td>\n",
              "      <td>60</td>\n",
              "      <td>71</td>\n",
              "    </tr>\n",
              "    <tr>\n",
              "      <th>5</th>\n",
              "      <td>69</td>\n",
              "      <td>70</td>\n",
              "      <td>180</td>\n",
              "      <td>85</td>\n",
              "    </tr>\n",
              "    <tr>\n",
              "      <th>6</th>\n",
              "      <td>92</td>\n",
              "      <td>60</td>\n",
              "      <td>120</td>\n",
              "      <td>90</td>\n",
              "    </tr>\n",
              "    <tr>\n",
              "      <th>7</th>\n",
              "      <td>99</td>\n",
              "      <td>80</td>\n",
              "      <td>120</td>\n",
              "      <td>92</td>\n",
              "    </tr>\n",
              "  </tbody>\n",
              "</table>\n",
              "</div>\n",
              "    <div class=\"colab-df-buttons\">\n",
              "\n",
              "  <div class=\"colab-df-container\">\n",
              "    <button class=\"colab-df-convert\" onclick=\"convertToInteractive('df-bd56332b-35be-4fb1-887a-8de6f7a5429d')\"\n",
              "            title=\"Convert this dataframe to an interactive table.\"\n",
              "            style=\"display:none;\">\n",
              "\n",
              "  <svg xmlns=\"http://www.w3.org/2000/svg\" height=\"24px\" viewBox=\"0 -960 960 960\">\n",
              "    <path d=\"M120-120v-720h720v720H120Zm60-500h600v-160H180v160Zm220 220h160v-160H400v160Zm0 220h160v-160H400v160ZM180-400h160v-160H180v160Zm440 0h160v-160H620v160ZM180-180h160v-160H180v160Zm440 0h160v-160H620v160Z\"/>\n",
              "  </svg>\n",
              "    </button>\n",
              "\n",
              "  <style>\n",
              "    .colab-df-container {\n",
              "      display:flex;\n",
              "      gap: 12px;\n",
              "    }\n",
              "\n",
              "    .colab-df-convert {\n",
              "      background-color: #E8F0FE;\n",
              "      border: none;\n",
              "      border-radius: 50%;\n",
              "      cursor: pointer;\n",
              "      display: none;\n",
              "      fill: #1967D2;\n",
              "      height: 32px;\n",
              "      padding: 0 0 0 0;\n",
              "      width: 32px;\n",
              "    }\n",
              "\n",
              "    .colab-df-convert:hover {\n",
              "      background-color: #E2EBFA;\n",
              "      box-shadow: 0px 1px 2px rgba(60, 64, 67, 0.3), 0px 1px 3px 1px rgba(60, 64, 67, 0.15);\n",
              "      fill: #174EA6;\n",
              "    }\n",
              "\n",
              "    .colab-df-buttons div {\n",
              "      margin-bottom: 4px;\n",
              "    }\n",
              "\n",
              "    [theme=dark] .colab-df-convert {\n",
              "      background-color: #3B4455;\n",
              "      fill: #D2E3FC;\n",
              "    }\n",
              "\n",
              "    [theme=dark] .colab-df-convert:hover {\n",
              "      background-color: #434B5C;\n",
              "      box-shadow: 0px 1px 3px 1px rgba(0, 0, 0, 0.15);\n",
              "      filter: drop-shadow(0px 1px 2px rgba(0, 0, 0, 0.3));\n",
              "      fill: #FFFFFF;\n",
              "    }\n",
              "  </style>\n",
              "\n",
              "    <script>\n",
              "      const buttonEl =\n",
              "        document.querySelector('#df-bd56332b-35be-4fb1-887a-8de6f7a5429d button.colab-df-convert');\n",
              "      buttonEl.style.display =\n",
              "        google.colab.kernel.accessAllowed ? 'block' : 'none';\n",
              "\n",
              "      async function convertToInteractive(key) {\n",
              "        const element = document.querySelector('#df-bd56332b-35be-4fb1-887a-8de6f7a5429d');\n",
              "        const dataTable =\n",
              "          await google.colab.kernel.invokeFunction('convertToInteractive',\n",
              "                                                    [key], {});\n",
              "        if (!dataTable) return;\n",
              "\n",
              "        const docLinkHtml = 'Like what you see? Visit the ' +\n",
              "          '<a target=\"_blank\" href=https://colab.research.google.com/notebooks/data_table.ipynb>data table notebook</a>'\n",
              "          + ' to learn more about interactive tables.';\n",
              "        element.innerHTML = '';\n",
              "        dataTable['output_type'] = 'display_data';\n",
              "        await google.colab.output.renderOutput(dataTable, element);\n",
              "        const docLink = document.createElement('div');\n",
              "        docLink.innerHTML = docLinkHtml;\n",
              "        element.appendChild(docLink);\n",
              "      }\n",
              "    </script>\n",
              "  </div>\n",
              "\n",
              "\n",
              "<div id=\"df-698481ff-85c9-4ff4-b3b5-3f6f8f2a94aa\">\n",
              "  <button class=\"colab-df-quickchart\" onclick=\"quickchart('df-698481ff-85c9-4ff4-b3b5-3f6f8f2a94aa')\"\n",
              "            title=\"Suggest charts\"\n",
              "            style=\"display:none;\">\n",
              "\n",
              "<svg xmlns=\"http://www.w3.org/2000/svg\" height=\"24px\"viewBox=\"0 0 24 24\"\n",
              "     width=\"24px\">\n",
              "    <g>\n",
              "        <path d=\"M19 3H5c-1.1 0-2 .9-2 2v14c0 1.1.9 2 2 2h14c1.1 0 2-.9 2-2V5c0-1.1-.9-2-2-2zM9 17H7v-7h2v7zm4 0h-2V7h2v10zm4 0h-2v-4h2v4z\"/>\n",
              "    </g>\n",
              "</svg>\n",
              "  </button>\n",
              "\n",
              "<style>\n",
              "  .colab-df-quickchart {\n",
              "      --bg-color: #E8F0FE;\n",
              "      --fill-color: #1967D2;\n",
              "      --hover-bg-color: #E2EBFA;\n",
              "      --hover-fill-color: #174EA6;\n",
              "      --disabled-fill-color: #AAA;\n",
              "      --disabled-bg-color: #DDD;\n",
              "  }\n",
              "\n",
              "  [theme=dark] .colab-df-quickchart {\n",
              "      --bg-color: #3B4455;\n",
              "      --fill-color: #D2E3FC;\n",
              "      --hover-bg-color: #434B5C;\n",
              "      --hover-fill-color: #FFFFFF;\n",
              "      --disabled-bg-color: #3B4455;\n",
              "      --disabled-fill-color: #666;\n",
              "  }\n",
              "\n",
              "  .colab-df-quickchart {\n",
              "    background-color: var(--bg-color);\n",
              "    border: none;\n",
              "    border-radius: 50%;\n",
              "    cursor: pointer;\n",
              "    display: none;\n",
              "    fill: var(--fill-color);\n",
              "    height: 32px;\n",
              "    padding: 0;\n",
              "    width: 32px;\n",
              "  }\n",
              "\n",
              "  .colab-df-quickchart:hover {\n",
              "    background-color: var(--hover-bg-color);\n",
              "    box-shadow: 0 1px 2px rgba(60, 64, 67, 0.3), 0 1px 3px 1px rgba(60, 64, 67, 0.15);\n",
              "    fill: var(--button-hover-fill-color);\n",
              "  }\n",
              "\n",
              "  .colab-df-quickchart-complete:disabled,\n",
              "  .colab-df-quickchart-complete:disabled:hover {\n",
              "    background-color: var(--disabled-bg-color);\n",
              "    fill: var(--disabled-fill-color);\n",
              "    box-shadow: none;\n",
              "  }\n",
              "\n",
              "  .colab-df-spinner {\n",
              "    border: 2px solid var(--fill-color);\n",
              "    border-color: transparent;\n",
              "    border-bottom-color: var(--fill-color);\n",
              "    animation:\n",
              "      spin 1s steps(1) infinite;\n",
              "  }\n",
              "\n",
              "  @keyframes spin {\n",
              "    0% {\n",
              "      border-color: transparent;\n",
              "      border-bottom-color: var(--fill-color);\n",
              "      border-left-color: var(--fill-color);\n",
              "    }\n",
              "    20% {\n",
              "      border-color: transparent;\n",
              "      border-left-color: var(--fill-color);\n",
              "      border-top-color: var(--fill-color);\n",
              "    }\n",
              "    30% {\n",
              "      border-color: transparent;\n",
              "      border-left-color: var(--fill-color);\n",
              "      border-top-color: var(--fill-color);\n",
              "      border-right-color: var(--fill-color);\n",
              "    }\n",
              "    40% {\n",
              "      border-color: transparent;\n",
              "      border-right-color: var(--fill-color);\n",
              "      border-top-color: var(--fill-color);\n",
              "    }\n",
              "    60% {\n",
              "      border-color: transparent;\n",
              "      border-right-color: var(--fill-color);\n",
              "    }\n",
              "    80% {\n",
              "      border-color: transparent;\n",
              "      border-right-color: var(--fill-color);\n",
              "      border-bottom-color: var(--fill-color);\n",
              "    }\n",
              "    90% {\n",
              "      border-color: transparent;\n",
              "      border-bottom-color: var(--fill-color);\n",
              "    }\n",
              "  }\n",
              "</style>\n",
              "\n",
              "  <script>\n",
              "    async function quickchart(key) {\n",
              "      const quickchartButtonEl =\n",
              "        document.querySelector('#' + key + ' button');\n",
              "      quickchartButtonEl.disabled = true;  // To prevent multiple clicks.\n",
              "      quickchartButtonEl.classList.add('colab-df-spinner');\n",
              "      try {\n",
              "        const charts = await google.colab.kernel.invokeFunction(\n",
              "            'suggestCharts', [key], {});\n",
              "      } catch (error) {\n",
              "        console.error('Error during call to suggestCharts:', error);\n",
              "      }\n",
              "      quickchartButtonEl.classList.remove('colab-df-spinner');\n",
              "      quickchartButtonEl.classList.add('colab-df-quickchart-complete');\n",
              "    }\n",
              "    (() => {\n",
              "      let quickchartButtonEl =\n",
              "        document.querySelector('#df-698481ff-85c9-4ff4-b3b5-3f6f8f2a94aa button');\n",
              "      quickchartButtonEl.style.display =\n",
              "        google.colab.kernel.accessAllowed ? 'block' : 'none';\n",
              "    })();\n",
              "  </script>\n",
              "</div>\n",
              "    </div>\n",
              "  </div>\n"
            ]
          },
          "metadata": {},
          "execution_count": 11
        }
      ]
    },
    {
      "cell_type": "code",
      "source": [
        "#상관분석 결과\n",
        "pearsonCoef = df3.corr(method = 'pearson')\n",
        "print(pearsonCoef)\n",
        "\n",
        "spearmanCoef = df3.corr(method = 'spearman')\n",
        "print(spearmanCoef)\n",
        "\n",
        "kendallCoef = df3.corr(method = 'kendall')\n",
        "print(kendallCoef)"
      ],
      "metadata": {
        "colab": {
          "base_uri": "https://localhost:8080/"
        },
        "id": "6-ve1c4jD4hm",
        "outputId": "3ebd74e7-5883-4410-e252-bab54e5aa259"
      },
      "execution_count": null,
      "outputs": [
        {
          "output_type": "stream",
          "name": "stdout",
          "text": [
            "              engListening  engReading  endClass  engScore\n",
            "engListening      1.000000    0.877201  0.703028  0.995829\n",
            "engReading        0.877201    1.000000  0.808755  0.894111\n",
            "endClass          0.703028    0.808755  1.000000  0.759453\n",
            "engScore          0.995829    0.894111  0.759453  1.000000\n",
            "              engListening  engReading  endClass  engScore\n",
            "engListening      1.000000    0.826362  0.717256  0.988024\n",
            "engReading        0.826362    1.000000  0.852757  0.848500\n",
            "endClass          0.717256    0.852757  1.000000  0.725950\n",
            "engScore          0.988024    0.848500  0.725950  1.000000\n",
            "              engListening  engReading  endClass  engScore\n",
            "engListening      1.000000    0.618284  0.563621  0.963624\n",
            "engReading        0.618284    1.000000  0.750568  0.679366\n",
            "endClass          0.563621    0.750568  1.000000  0.584898\n",
            "engScore          0.963624    0.679366  0.584898  1.000000\n"
          ]
        }
      ]
    },
    {
      "cell_type": "code",
      "source": [
        "#상관관계 분석의 활용 - 기준금리와 부동산 매매가격\n",
        "\n",
        "#데이터 준비\n",
        "\n",
        "import pandas as pd\n",
        "import matplotlib.pyplot as plt\n",
        "\n",
        "realEstate = [83, 83, 83.5, 83.8, 83.9, 83.7, 84.3, 84.6, 85.2, 85.7, 85.7, 85.7, 86.3\n",
        "               , 86.8, 87.4, 87.4, 87.4, 87.4, 87.6, 88.2, 88.8, 89.4, 89.7, 89.9, 90.5\n",
        "               , 91.1, 92, 92.7, 93.3, 93.8, 94.7, 95.4, 96, 96.4, 96.4, 95.8, 95.7\n",
        "               , 95.8, 95.7, 95.7, 95.7, 96, 96.6, 97.2, 98.1, 98.8, 98.9, 98.6, 98.3\n",
        "               , 98.5, 98.7, 98.6, 98.9, 99.4, 100.1, 100.2, 100.3, 100.3, 100, 99.6\n",
        "               , 99.8, 100.1, 100.2, 100.2, 99.9, 99.7, 99.6, 100.8, 102.2, 102.4\n",
        "               , 101.6, 100.8, 100.3, 99.9, 99.2, 99, 98.8, 99.1, 99.6, 99.9, 100.3\n",
        "               , 100.8, 101.7, 102.7, 103.4, 104.7, 105.5, 105.5, 106.3, 108.3, 110.7\n",
        "               , 112, 112.9, 114.4, 117, 119.8, 122.9, 125.1, 126.7, 128.3, 130.5\n",
        "               , 133.4, 136.5, 139.7, 142.3, 143.8, 143, 141.6, 140.7, 140.6, 141.1\n",
        "               , 141.8, 140.5, 139.8, 136.1, 133.4, 130.6, 126.2, 121.1]\n",
        "interestRate = [2.75, 2.75, 2.75, 2.75, 2.5, 2.5, 2.5, 2.5, 2.5, 2.5, 2.5, 2.5, 2.5\n",
        "               , 2.5, 2.5, 2.5, 2.5, 2.5, 2.5, 2.25, 2.25, 2, 2, 2, 2, 2, 1.75, 1.75\n",
        "               , 1.75, 1.5, 1.5, 1.5, 1.5, 1.5, 1.5, 1.5, 1.5, 1.5, 1.5, 1.5, 1.5, 1.25\n",
        "               , 1.25, 1.25, 1.25, 1.25, 1.25, 1.25, 1.25, 1.25, 1.25, 1.25, 1.25, 1.25\n",
        "               , 1.25, 1.25, 1.25, 1.25, 1.5, 1.5, 1.5, 1.5, 1.5, 1.5, 1.5, 1.5, 1.5\n",
        "               , 1.5, 1.5, 1.5, 1.75, 1.75, 1.75, 1.75, 1.75, 1.75, 1.75, 1.75, 1.5\n",
        "               , 1.5, 1.5, 1.25, 1.25, 1.25, 1.25, 1.25, 0.75, 0.75, 0.5, 0.5, 0.5\n",
        "               , 0.5, 0.5, 0.5, 0.5, 0.5, 0.5, 0.5, 0.5, 0.5, 0.5, 0.5, 0.5\n",
        "               , 0.75, 0.75, 0.75, 1, 1, 1.25, 1.25, 1.25, 1.5, 1.75, 1.75, 2.25, 2.5, 2.5\n",
        "               , 3, 3.25]\n",
        "data = {'부동산':realEstate, '금리':interestRate}\n",
        "\n",
        "plt.scatter(data['부동산'], data['금리'])\n",
        "plt.show()"
      ],
      "metadata": {
        "colab": {
          "base_uri": "https://localhost:8080/",
          "height": 430
        },
        "id": "qlVgB3-2G2hq",
        "outputId": "4e76858b-3c76-46df-b226-4dd90b688336"
      },
      "execution_count": 3,
      "outputs": [
        {
          "output_type": "display_data",
          "data": {
            "text/plain": [
              "<Figure size 640x480 with 1 Axes>"
            ],
            "image/png": "[encoded data removed]"
          },
          "metadata": {}
        }
      ]
    },
    {
      "cell_type": "code",
      "source": [
        "#피어슨 상관분석\n",
        "df = pd.DataFrame(data)\n",
        "coef = df.corr(method = 'pearson')\n",
        "print(coef)\n",
        "# 두 변수의 상관계수 값 = -0.497677, 절댓값이 0.5에 가까운 음의 선형관계\n",
        "# 기준금리가 오를수록 부동산 가격이 낮아지고, 기준금리가 내릴수록 부동산 가격이 높아진다."
      ],
      "metadata": {
        "id": "5ZxIfnvcD4fB",
        "colab": {
          "base_uri": "https://localhost:8080/"
        },
        "outputId": "c1f01c84-db14-41d6-d8cc-fca91fa52a00"
      },
      "execution_count": 4,
      "outputs": [
        {
          "output_type": "stream",
          "name": "stdout",
          "text": [
            "          부동산        금리\n",
            "부동산  1.000000 -0.497677\n",
            "금리  -0.497677  1.000000\n"
          ]
        }
      ]
    },
    {
      "cell_type": "code",
      "source": [
        "#부동산 상승기 상관분석\n",
        "originalData = {'부동산': realEstate, '금리' : interestRate}\n",
        "#print(originalData)\n",
        "\n",
        "realEstateIndexList = []\n",
        "interestList = []\n",
        "lastIndex = -1\n",
        "\n",
        "#부동산 지수가 143.8이 될때까지만 리스트에 데이터 추가하기\n",
        "for key, value in originalData.items():\n",
        "  if key == '부동산' :\n",
        "    for i in range(0, len(value)):\n",
        "      if value[i] == 143.8:\n",
        "        break\n",
        "      else:\n",
        "        realEstateIndexList.append(value[i])\n",
        "        lastIndex = i\n",
        "  else:\n",
        "    for i in range(0, lastIndex + 1):\n",
        "      interestList.append(value[i])\n",
        "\n",
        "data = {'지수' : realEstateIndexList, '금리' : interestList}\n",
        "df = pd.DataFrame(data)\n",
        "coef = df.corr(method = 'pearson')\n",
        "print(coef)\n",
        "# 피어슨 상관계수 = -0.854603 : 강한 음의 상관관계\n",
        "# 기준금리가 오를 때 부동산 지수는 내려가고, 금리가 내려갈 때 부동산 지수는 올라감 -> 이 분석에는 두 가지 한계 존재\n",
        "# - 기준금리 하나만으로 부동산 거래 가격을 단정지을 수 없음\n",
        "# - 금리가 오르고 부동산 지수가 내려가는 데이터가지 포함했을 때, 상관계수의 절댓값이 비교적 낮음.\n",
        "#       기준금리가 오르기까지 13개월이 소요된 데 반하여, 기준금리가 떨어지기까지 7년 3개월이 걸림\n",
        "#       기준금리가 더 짧은 시간에 오르면서 부동산 지수 데이터가 상대적으로 듬성듬성 채워졌다\n",
        "#       -> ChatGPT 답변 : 특정 기간 동안의 부동산 데이터가 일정하지 않고 불규칙하게 수집되었다는 것을 나타냅니다.\n",
        "#                         이는 부동산 시장의 데이터가 일관된 주기나 패턴을 가지지 않고, 특정 이벤트나 요인에 의해 영향을 받아 듬성듬성하게 기록되었다는 것을 의미합니다.\n",
        "#                         이러한 듬성듬성한 데이터는 통계적 분석이나 모델링에서 예측의 정확성을 저하시킬 수 있습니다."
      ],
      "metadata": {
        "id": "fQc0vVJLD4ca",
        "colab": {
          "base_uri": "https://localhost:8080/"
        },
        "outputId": "a789800d-7ada-43ed-d2e2-4d42c12c5228"
      },
      "execution_count": 7,
      "outputs": [
        {
          "output_type": "stream",
          "name": "stdout",
          "text": [
            "          지수        금리\n",
            "지수  1.000000 -0.854603\n",
            "금리 -0.854603  1.000000\n"
          ]
        }
      ]
    },
    {
      "cell_type": "code",
      "source": [
        "#영어 성적과 수학 성적\n",
        "\n",
        "import pandas as pd\n",
        "data = {'영어' : [4,2,1,3,10,8,9,7,6,5],\n",
        "        '수학' : [2,1,3,4,8,7,10,5,9,6]}\n",
        "df = pd.DataFrame(data)\n",
        "coef = df.corr(method='spearman')\n",
        "print(coef)"
      ],
      "metadata": {
        "id": "OgaTzU5lD4aK",
        "colab": {
          "base_uri": "https://localhost:8080/"
        },
        "outputId": "3051fdde-c9c3-493c-cf4f-f90f1f075a3f"
      },
      "execution_count": 8,
      "outputs": [
        {
          "output_type": "stream",
          "name": "stdout",
          "text": [
            "          영어        수학\n",
            "영어  1.000000  0.818182\n",
            "수학  0.818182  1.000000\n"
          ]
        }
      ]
    },
    {
      "cell_type": "code",
      "source": [
        "#GDP 성장률과 인구수의 상관관계 분석\n",
        "data = {'국가' :['미국', '일본', '영국', '프랑스', '독일', '이탈리아', '캐나다',\n",
        "                '대한민국', '러시아', '중국', '인도', '인도네시아', '아르헨티나',\n",
        "                '브라질', '멕시코', '호주', '남아프리카공화국', '사우디아라비아',\n",
        "                '튀르키예', '유럽연합(EU)'],\n",
        "        'GDP 성장률' :[0.9, 0.6, 0.4, 0.5, 1.1, 1.7, 3.9, 1.4, -3.7, 2.9, 6.3,\n",
        "                    5.01, 5.9, 3.6, 3.5, 5.9, 4.1, 5.4, 3.9, 1.9],\n",
        "        '인구수' :[334, 125, 67.53, 67.65, 83.16, 59.24, 38.44, 51.74, 146, 1412,\n",
        "                1380, 273, 45.81, 213, 126, 25.77, 60.14, 34.11, 84.68, 343]}\n",
        "\n",
        "df = pd.DataFrame(data)\n",
        "print(df)"
      ],
      "metadata": {
        "id": "kOiFDAv7D4Xk",
        "colab": {
          "base_uri": "https://localhost:8080/"
        },
        "outputId": "fe92e2cd-37be-4616-a369-43c6e6273416"
      },
      "execution_count": 9,
      "outputs": [
        {
          "output_type": "stream",
          "name": "stdout",
          "text": [
            "          국가  GDP 성장률      인구수\n",
            "0         미국     0.90   334.00\n",
            "1         일본     0.60   125.00\n",
            "2         영국     0.40    67.53\n",
            "3        프랑스     0.50    67.65\n",
            "4         독일     1.10    83.16\n",
            "5       이탈리아     1.70    59.24\n",
            "6        캐나다     3.90    38.44\n",
            "7       대한민국     1.40    51.74\n",
            "8        러시아    -3.70   146.00\n",
            "9         중국     2.90  1412.00\n",
            "10        인도     6.30  1380.00\n",
            "11     인도네시아     5.01   273.00\n",
            "12     아르헨티나     5.90    45.81\n",
            "13       브라질     3.60   213.00\n",
            "14       멕시코     3.50   126.00\n",
            "15        호주     5.90    25.77\n",
            "16  남아프리카공화국     4.10    60.14\n",
            "17   사우디아라비아     5.40    34.11\n",
            "18      튀르키예     3.90    84.68\n",
            "19  유럽연합(EU)     1.90   343.00\n"
          ]
        }
      ]
    },
    {
      "cell_type": "code",
      "source": [
        "pearsonCoef = df.corr(method='pearson')\n",
        "print(\"Pearson Correlation Analysis\")\n",
        "print(pearsonCoef)\n",
        "\n",
        "spearmanCoef = df.corr(method='spearman')\n",
        "print(\"\\nSpearman Correlation Analysis\")\n",
        "print(spearmanCoef)\n",
        "\n",
        "kendallCoef = df.corr(method='kendall')\n",
        "print(\"\\nKendall Correlation Analysis\")\n",
        "print(kendallCoef)\n",
        "\n",
        "# 상관계수의 절댓값이 모두 0.5에 못미침 : GDP 상승률과 인구수는 선형 상관관계가 없음\n",
        "# 분석 한계점\n",
        "# - 전 세계의 코로나19라는 특수한 요인이 작용한 시기의 전년대비 GDP 성장률임.\n",
        "# -> 국가마다 코로나19 관련 정책이 상이하여 경제 성장률보다 국민의 안전을 우선으로 하는 국가와 그 반대인 국가가 있었음.\n",
        "# - 표본수가 적음. -> 전 세계 200여 개 국가의 인구수와 GDF 성장률 관계를 추론하기에는 데이터가 부족"
      ],
      "metadata": {
        "id": "xxM7PNB1D4Ve",
        "colab": {
          "base_uri": "https://localhost:8080/"
        },
        "outputId": "88381025-1981-4796-a8c9-c6c2bec49119"
      },
      "execution_count": 10,
      "outputs": [
        {
          "output_type": "stream",
          "name": "stderr",
          "text": [
            "<ipython-input-10-9fba138c3d95>:1: FutureWarning: The default value of numeric_only in DataFrame.corr is deprecated. In a future version, it will default to False. Select only valid columns or specify the value of numeric_only to silence this warning.\n",
            "  pearsonCoef = df.corr(method='pearson')\n",
            "<ipython-input-10-9fba138c3d95>:5: FutureWarning: The default value of numeric_only in DataFrame.corr is deprecated. In a future version, it will default to False. Select only valid columns or specify the value of numeric_only to silence this warning.\n",
            "  spearmanCoef = df.corr(method='spearman')\n",
            "<ipython-input-10-9fba138c3d95>:9: FutureWarning: The default value of numeric_only in DataFrame.corr is deprecated. In a future version, it will default to False. Select only valid columns or specify the value of numeric_only to silence this warning.\n",
            "  kendallCoef = df.corr(method='kendall')\n"
          ]
        },
        {
          "output_type": "stream",
          "name": "stdout",
          "text": [
            "Pearson Correlation Analysis\n",
            "          GDP 성장률       인구수\n",
            "GDP 성장률  1.000000  0.198924\n",
            "인구수      0.198924  1.000000\n",
            "\n",
            "Spearman Correlation Analysis\n",
            "          GDP 성장률       인구수\n",
            "GDP 성장률  1.000000 -0.196388\n",
            "인구수     -0.196388  1.000000\n",
            "\n",
            "Kendall Correlation Analysis\n",
            "          GDP 성장률       인구수\n",
            "GDP 성장률  1.000000 -0.137568\n",
            "인구수     -0.137568  1.000000\n"
          ]
        }
      ]
    },
    {
      "cell_type": "code",
      "source": [],
      "metadata": {
        "id": "8xzwtoF6D4TC"
      },
      "execution_count": null,
      "outputs": []
    },
    {
      "cell_type": "code",
      "source": [],
      "metadata": {
        "id": "3KmsuxejD4Qs"
      },
      "execution_count": null,
      "outputs": []
    },
    {
      "cell_type": "code",
      "source": [],
      "metadata": {
        "id": "nS7PAIahD4ON"
      },
      "execution_count": null,
      "outputs": []
    },
    {
      "cell_type": "code",
      "source": [],
      "metadata": {
        "id": "hNhb9gO5D4L_"
      },
      "execution_count": null,
      "outputs": []
    },
    {
      "cell_type": "code",
      "source": [],
      "metadata": {
        "id": "EOBnKPA0D4JC"
      },
      "execution_count": null,
      "outputs": []
    },
    {
      "cell_type": "code",
      "source": [],
      "metadata": {
        "id": "jQoiD4uYD4Gi"
      },
      "execution_count": null,
      "outputs": []
    },
    {
      "cell_type": "code",
      "source": [],
      "metadata": {
        "id": "-24OSjM1D3_h"
      },
      "execution_count": null,
      "outputs": []
    }
  ]
}