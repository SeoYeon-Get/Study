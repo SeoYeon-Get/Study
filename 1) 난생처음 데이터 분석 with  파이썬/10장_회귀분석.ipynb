{
  "nbformat": 4,
  "nbformat_minor": 0,
  "metadata": {
    "colab": {
      "provenance": []
    },
    "kernelspec": {
      "name": "python3",
      "display_name": "Python 3"
    },
    "language_info": {
      "name": "python"
    }
  },
  "cells": [
    {
      "cell_type": "markdown",
      "source": [
        "# **10장. 회귀분석**"
      ],
      "metadata": {
        "id": "sNDYx985Y1qF"
      }
    },
    {
      "cell_type": "code",
      "execution_count": null,
      "metadata": {
        "id": "hKqY9BZwYnI1"
      },
      "outputs": [],
      "source": [
        "#회귀분석 : 어떤 사건에 대한 여러 요인의 영향력을 파악하고 비교할 수 있음.\n",
        "#상관분석으로 두 변수의 선형 상관도를 판단할 수 있으나 이것이 인과관계를 나타내지는 않음\n",
        "#선형 회귀분석(Linear regression analysis) : 데이터를 하나의 직선으로 이어 일차함수로 일반화하는 데이터 분석 방법\n",
        "#로지스틱 회귀분석 : 결과 사건의 발생 확률로 원인 사건의 영향력을 수치화하는 데이터 분석 방법"
      ]
    },
    {
      "cell_type": "code",
      "source": [
        "#선형 회귀분석\n",
        "# - x 변수(독립변수, Independent variable)가 원인, y 변수(종속변수, Dependent Variable가 결과\n",
        "# - 독립변수는 한 개 이상, 종속변수는 단 한개만 존재\n",
        "# - 독립변수가 한 개이면 단순 선형 회귀분석, 독립변수가 두 개이상이면 다중 선형 회귀분석\n",
        "# - 잔차(Residual) : 점이 가리키는 값과 직선이 예측하는 값의 차\n",
        "# - 결정계수(R square) : 모형이 데이터의 패턴을 얼마나 효과적으로 보여주는지 수치화한 값\n",
        "#                        0 이상 1이하의 값으로 계산됨. 1에 가까워질수록 잔차가 작고 예측의 정말도가 높음.\n",
        "# - 편차(Deviation) : 평균과 실제 값의 차이\n",
        "# - 수정된 결정계수(adjusted R square) : 독립변수의 개수가 많을수록 커지는 결정계수의 문제점을 보완하기 위해 수정된 결정계수. 다중 선형 회귀분석에서 사용\n",
        "\n",
        "# 선형 회귀분석의 해석\n",
        "# - 통계적 가설검정(Statistical hypothesis test) : 통계적 추측 방법, 모집단에 대한 추측(가설)을 하고 표본의 정보를 기준으로 그 가설이 타당한지 판정하는 방법\n",
        "# - 귀무가설(Null hypothesis) : 처음부터 거짓일 것으로 기대하는 가설\n",
        "# - 대립가설(Alternative hypothesis) : 입증하고자 하는 가설\n",
        "# - 유의수준(Significance level), p-값(p-value, 유의확률)"
      ],
      "metadata": {
        "id": "VhIkvdVTiiF-"
      },
      "execution_count": null,
      "outputs": []
    },
    {
      "cell_type": "code",
      "source": [
        "# 연봉과 직장 만족도\n",
        "\n",
        "import pandas as pd\n",
        "import matplotlib.pyplot as plt\n",
        "\n",
        "x = [3000, 4200, 4000, 5000, 6000, 3800, 3500, 6200, 3900, 4500]\n",
        "y = [60, 75, 70, 85, 90, 70, 65, 95, 70, 80]\n",
        "data = {'x' : x, 'y': y}\n",
        "df = pd.DataFrame(data)\n",
        "plt.scatter(df['x'], df['y'])\n",
        "plt.show()"
      ],
      "metadata": {
        "colab": {
          "base_uri": "https://localhost:8080/",
          "height": 430
        },
        "id": "Pu-ViY0diiIJ",
        "outputId": "f20ca2f8-e86f-428d-ec41-05d53fd9f508"
      },
      "execution_count": null,
      "outputs": [
        {
          "output_type": "display_data",
          "data": {
            "text/plain": [
              "<Figure size 640x480 with 1 Axes>"
            ],
            "image/png": "[encoded data removed]"
          },
          "metadata": {}
        }
      ]
    },
    {
      "cell_type": "code",
      "source": [
        "#단순 선형 회귀분석\n",
        "\n",
        "from statsmodels.formula.api import ols\n",
        "from sklearn.linear_model import LinearRegression #sklearn.linear_model: 선형 회귀분석 라이브러리\n",
        "\n",
        "fit = ols('y~x', data=df).fit() # ols() : 선형 회귀분석을 수행하는 함수\n",
        "print(fit.summary())\n",
        "\n",
        "#결정계수 R의 값이 0.971로, 표본 데이터들에 대한 설명력이 97.1%이다.\n",
        "#회귀모형의 독립변수는 x 한개이며, x의 유의수준은 0.000으로 0.05미만 -> x는 유의한 독립변수이다.\n",
        "#독립변수 x의 계수는 0.0107\n",
        "#회귀모형 : y = 0.0107x + 29.0004 + e"
      ],
      "metadata": {
        "colab": {
          "base_uri": "https://localhost:8080/"
        },
        "id": "54lsczhNiiKa",
        "outputId": "e00e3f54-3e0f-4498-8334-9c4aba2d1fd1"
      },
      "execution_count": null,
      "outputs": [
        {
          "output_type": "stream",
          "name": "stdout",
          "text": [
            "                            OLS Regression Results                            \n",
            "==============================================================================\n",
            "Dep. Variable:                      y   R-squared:                       0.971\n",
            "Model:                            OLS   Adj. R-squared:                  0.968\n",
            "Method:                 Least Squares   F-statistic:                     271.0\n",
            "Date:                Mon, 27 Nov 2023   Prob (F-statistic):           1.87e-07\n",
            "Time:                        07:49:08   Log-Likelihood:                -20.111\n",
            "No. Observations:                  10   AIC:                             44.22\n",
            "Df Residuals:                       8   BIC:                             44.83\n",
            "Df Model:                           1                                         \n",
            "Covariance Type:            nonrobust                                         \n",
            "==============================================================================\n",
            "                 coef    std err          t      P>|t|      [0.025      0.975]\n",
            "------------------------------------------------------------------------------\n",
            "Intercept     29.0004      2.926      9.913      0.000      22.254      35.747\n",
            "x              0.0107      0.001     16.463      0.000       0.009       0.012\n",
            "==============================================================================\n",
            "Omnibus:                        0.346   Durbin-Watson:                   2.871\n",
            "Prob(Omnibus):                  0.841   Jarque-Bera (JB):                0.447\n",
            "Skew:                           0.286   Prob(JB):                        0.800\n",
            "Kurtosis:                       2.136   Cond. No.                     2.07e+04\n",
            "==============================================================================\n",
            "\n",
            "Notes:\n",
            "[1] Standard Errors assume that the covariance matrix of the errors is correctly specified.\n",
            "[2] The condition number is large, 2.07e+04. This might indicate that there are\n",
            "strong multicollinearity or other numerical problems.\n"
          ]
        },
        {
          "output_type": "stream",
          "name": "stderr",
          "text": [
            "/usr/local/lib/python3.10/dist-packages/scipy/stats/_stats_py.py:1806: UserWarning: kurtosistest only valid for n>=20 ... continuing anyway, n=10\n",
            "  warnings.warn(\"kurtosistest only valid for n>=20 ... continuing \"\n"
          ]
        }
      ]
    },
    {
      "cell_type": "code",
      "source": [
        "#다중 선형 회귀분석\n",
        "\n",
        "from statsmodels.formula.api import ols\n",
        "from sklearn.linear_model import LinearRegression\n",
        "\n",
        "salary = [3000, 4200, 4000, 5000, 6000, 3800, 3500, 6200, 3900, 4500]\n",
        "breakTime = [120, 60, 100, 100, 50, 120, 90, 40, 120, 120]\n",
        "workingTime = [8, 6, 10, 8, 10, 10, 9, 7, 8, 9]\n",
        "companySatisfaction = [60, 75, 70, 85, 90, 70, 65, 95, 70, 80]\n",
        "\n",
        "data = {'salary': salary, 'breakTime': breakTime, 'workingTime': workingTime,\n",
        "        'companySatisfaction': companySatisfaction}\n",
        "df = pd.DataFrame(data)\n",
        "\n",
        "fit = ols('companySatisfaction ~ salary + breakTime + workingTime', data=df).fit()\n",
        "print(fit.summary())\n",
        "\n",
        "# 수정된 결정계수 : 0.988, 이 선형 회귀모형의 설명력이 98.8%\n",
        "# 변수 salary는 p-값이 0.000, 변수 breakTime은 0.047로 0.05보다 작음, workingTime p-값은 0.057로 0.05보다 큼\n",
        "# -> 연봉과 휴식시간은 유의한 독립변수이며, 근무시간은 유의하지 않은 독립변수이다.\n",
        "# 모형 : companySatisfaction = 24.9819 + (0.0120)*salary + (0.0668)*breakTime + e"
      ],
      "metadata": {
        "id": "m2pFEBSPiiM1",
        "colab": {
          "base_uri": "https://localhost:8080/"
        },
        "outputId": "811360a3-a662-4b16-cfc6-520ffd49182c"
      },
      "execution_count": null,
      "outputs": [
        {
          "output_type": "stream",
          "name": "stdout",
          "text": [
            "                             OLS Regression Results                            \n",
            "===============================================================================\n",
            "Dep. Variable:     companySatisfaction   R-squared:                       0.988\n",
            "Model:                             OLS   Adj. R-squared:                  0.982\n",
            "Method:                  Least Squares   F-statistic:                     164.0\n",
            "Date:                 Mon, 27 Nov 2023   Prob (F-statistic):           3.81e-06\n",
            "Time:                         08:19:58   Log-Likelihood:                -15.777\n",
            "No. Observations:                   10   AIC:                             39.55\n",
            "Df Residuals:                        6   BIC:                             40.77\n",
            "Df Model:                            3                                         \n",
            "Covariance Type:             nonrobust                                         \n",
            "===============================================================================\n",
            "                  coef    std err          t      P>|t|      [0.025      0.975]\n",
            "-------------------------------------------------------------------------------\n",
            "Intercept      24.9819      5.353      4.667      0.003      11.884      38.080\n",
            "salary          0.0120      0.001     15.895      0.000       0.010       0.014\n",
            "breakTime       0.0668      0.027      2.491      0.047       0.001       0.132\n",
            "workingTime    -0.9718      0.412     -2.356      0.057      -1.981       0.037\n",
            "==============================================================================\n",
            "Omnibus:                        0.929   Durbin-Watson:                   2.500\n",
            "Prob(Omnibus):                  0.628   Jarque-Bera (JB):                0.752\n",
            "Skew:                          -0.441   Prob(JB):                        0.686\n",
            "Kurtosis:                       1.986   Cond. No.                     5.06e+04\n",
            "==============================================================================\n",
            "\n",
            "Notes:\n",
            "[1] Standard Errors assume that the covariance matrix of the errors is correctly specified.\n",
            "[2] The condition number is large, 5.06e+04. This might indicate that there are\n",
            "strong multicollinearity or other numerical problems.\n"
          ]
        },
        {
          "output_type": "stream",
          "name": "stderr",
          "text": [
            "/usr/local/lib/python3.10/dist-packages/scipy/stats/_stats_py.py:1806: UserWarning: kurtosistest only valid for n>=20 ... continuing anyway, n=10\n",
            "  warnings.warn(\"kurtosistest only valid for n>=20 ... continuing \"\n"
          ]
        }
      ]
    },
    {
      "cell_type": "code",
      "source": [
        "#로지스틱 회귀모형\n",
        "# - 선형 회귀분석의 종속변수는 어떤 값이든 될 수 있지만 로지스틱 회귀분석의 종속변수는 범위에 제한이 있음\n",
        "# - 범위 : 0 에서 1, 종속변수가 1에 가까울수록 사건이 발생할 확률이 더 높음\n",
        "# - 오즈비(Odds Ratio, OR) : 승산비, 사건이 발생할 확률이 발생하지 않을 확률에 비해 몇 배나 높은지를 의미"
      ],
      "metadata": {
        "id": "djIXSCB6iiPB"
      },
      "execution_count": null,
      "outputs": []
    },
    {
      "cell_type": "code",
      "source": [
        "import statsmodels.api as sm\n",
        "import pandas as pd\n",
        "import numpy as np\n",
        "\n",
        "sales = [1,1,1,1,1,1,1,1,1,0,0,0,0,0,0,0,0]\n",
        "price = [1500, 2000, 5000, 3000, 3500, 2500, 4000, 4500, 3000, 4500, 4000, 4500, 5500, 6500, 5000, 3500, 7000]\n",
        "data = {'sales' : sales, 'price' : price}\n",
        "df = pd.DataFrame(data)\n",
        "\n",
        "logis = sm.Logit.from_formula('sales~price', data = df).fit() # sm.Logit.from_formula() : 로지스틱 회귀분석 수행 함수\n",
        "print(logis.summary())\n",
        "print('OR')\n",
        "print(np.exp(logis.params))\n",
        "\n",
        "# price의 p-값이 0.04로 유의한 변수, y졀편인 Intercept p-값 0.046도 확인할 수 있음.\n",
        "# 변수 price의 오즈비가 0.998433이므로 가격을 올렸을 때 판매될 가능성이 판매되지 않을 가능성의 0.998433배이다."
      ],
      "metadata": {
        "id": "7n778Cb5iiRP",
        "colab": {
          "base_uri": "https://localhost:8080/"
        },
        "outputId": "ed1714c4-c5e8-4168-8c68-95bdc9ff403b"
      },
      "execution_count": null,
      "outputs": [
        {
          "output_type": "stream",
          "name": "stdout",
          "text": [
            "Optimization terminated successfully.\n",
            "         Current function value: 0.430873\n",
            "         Iterations 7\n",
            "                           Logit Regression Results                           \n",
            "==============================================================================\n",
            "Dep. Variable:                  sales   No. Observations:                   17\n",
            "Model:                          Logit   Df Residuals:                       15\n",
            "Method:                           MLE   Df Model:                            1\n",
            "Date:                Mon, 27 Nov 2023   Pseudo R-squ.:                  0.3768\n",
            "Time:                        08:35:40   Log-Likelihood:                -7.3248\n",
            "converged:                       True   LL-Null:                       -11.754\n",
            "Covariance Type:            nonrobust   LLR p-value:                  0.002917\n",
            "==============================================================================\n",
            "                 coef    std err          z      P>|z|      [0.025      0.975]\n",
            "------------------------------------------------------------------------------\n",
            "Intercept      6.5752      3.300      1.993      0.046       0.108      13.042\n",
            "price         -0.0016      0.001     -2.008      0.045      -0.003   -3.75e-05\n",
            "==============================================================================\n",
            "OR\n",
            "Intercept    717.058841\n",
            "price          0.998433\n",
            "dtype: float64\n"
          ]
        }
      ]
    },
    {
      "cell_type": "code",
      "source": [
        "#타이타닉 탑승자 생존여부 예측\n",
        "\n",
        "import seaborn as sns\n",
        "\n",
        "titanic = sns.load_dataset('titanic')\n",
        "print(titanic)"
      ],
      "metadata": {
        "id": "LcS37hXQiiTg",
        "colab": {
          "base_uri": "https://localhost:8080/"
        },
        "outputId": "1f406c99-61b3-424a-8eff-c06485f778fc"
      },
      "execution_count": 1,
      "outputs": [
        {
          "output_type": "stream",
          "name": "stdout",
          "text": [
            "     survived  pclass     sex   age  sibsp  parch     fare embarked   class  \\\n",
            "0           0       3    male  22.0      1      0   7.2500        S   Third   \n",
            "1           1       1  female  38.0      1      0  71.2833        C   First   \n",
            "2           1       3  female  26.0      0      0   7.9250        S   Third   \n",
            "3           1       1  female  35.0      1      0  53.1000        S   First   \n",
            "4           0       3    male  35.0      0      0   8.0500        S   Third   \n",
            "..        ...     ...     ...   ...    ...    ...      ...      ...     ...   \n",
            "886         0       2    male  27.0      0      0  13.0000        S  Second   \n",
            "887         1       1  female  19.0      0      0  30.0000        S   First   \n",
            "888         0       3  female   NaN      1      2  23.4500        S   Third   \n",
            "889         1       1    male  26.0      0      0  30.0000        C   First   \n",
            "890         0       3    male  32.0      0      0   7.7500        Q   Third   \n",
            "\n",
            "       who  adult_male deck  embark_town alive  alone  \n",
            "0      man        True  NaN  Southampton    no  False  \n",
            "1    woman       False    C    Cherbourg   yes  False  \n",
            "2    woman       False  NaN  Southampton   yes   True  \n",
            "3    woman       False    C  Southampton   yes  False  \n",
            "4      man        True  NaN  Southampton    no   True  \n",
            "..     ...         ...  ...          ...   ...    ...  \n",
            "886    man        True  NaN  Southampton    no   True  \n",
            "887  woman       False    B  Southampton   yes   True  \n",
            "888  woman       False  NaN  Southampton    no  False  \n",
            "889    man        True    C    Cherbourg   yes   True  \n",
            "890    man        True  NaN   Queenstown    no   True  \n",
            "\n",
            "[891 rows x 15 columns]\n"
          ]
        }
      ]
    },
    {
      "cell_type": "code",
      "source": [
        "#타이타닉 탑승자 데이터의 로지스틱 회귀분석\n",
        "\n",
        "import statsmodels.api as sm\n",
        "import numpy as np\n",
        "from sklearn.preprocessing import LabelEncoder\n",
        "\n",
        "encoder = LabelEncoder()\n",
        "encoder.fit(titanic['sex'])\n",
        "sex = encoder.transform(titanic['sex']) #encoder.transform() : 성별 열의 값 'male'과 'female'을 각각 1과 0으로 변환\n",
        "titanic['sex'] = sex\n",
        "\n",
        "model = sm.Logit.from_formula('survived ~ pclass + sex + age + fare + parch + sibsp' , data = titanic)\n",
        "logit = model.fit()\n",
        "print(logit.summary())\n",
        "\n",
        "print(\"OR\")\n",
        "print(np.exp(logit.params))\n",
        "\n",
        "#독립변수 중 p-값이 0.05미만인 변수 : pclass, sex, age, sibsp\n",
        "#-> 위의 변수의 계수가 모두 음수이므로 독립변수의 값이 증가할 때마다 생존가능성이 낮은 것으로 판단\n",
        "#탑승 클래스의 숫자가 높을수록 생존율이 낮고, 남성(1)이 여성(0)에 비해 생존율이 낮고, 나이가 많을수록 생존율이 낮으며, 자녀나 배우자의 수가 많을수록 생존율이 낮음.\n",
        "#독립변수 중 생존에 가장 큰 영향을 미치는 변수는 절댓값이 가장 큰 변수 sex이다.\n",
        "#유의한 독립변수 중 age의 오즈비가 가장 크고, sex의 오즈비가 가장 작다.\n",
        "#-> 나이가 많은 사람이 생존할 확률은 나이가 적은 사람이 생존할 확률과 비슷, 남성이 생존할 확률은 여성의 생존할 확률의 0.07배로 매우 작음."
      ],
      "metadata": {
        "id": "jMbN2gEjiiVs",
        "colab": {
          "base_uri": "https://localhost:8080/"
        },
        "outputId": "e68b939b-daae-4310-b86b-38847760a36a"
      },
      "execution_count": 2,
      "outputs": [
        {
          "output_type": "stream",
          "name": "stdout",
          "text": [
            "Optimization terminated successfully.\n",
            "         Current function value: 0.445244\n",
            "         Iterations 6\n",
            "                           Logit Regression Results                           \n",
            "==============================================================================\n",
            "Dep. Variable:               survived   No. Observations:                  714\n",
            "Model:                          Logit   Df Residuals:                      707\n",
            "Method:                           MLE   Df Model:                            6\n",
            "Date:                Tue, 28 Nov 2023   Pseudo R-squ.:                  0.3408\n",
            "Time:                        04:53:30   Log-Likelihood:                -317.90\n",
            "converged:                       True   LL-Null:                       -482.26\n",
            "Covariance Type:            nonrobust   LLR p-value:                 5.727e-68\n",
            "==============================================================================\n",
            "                 coef    std err          z      P>|z|      [0.025      0.975]\n",
            "------------------------------------------------------------------------------\n",
            "Intercept      5.3890      0.604      8.926      0.000       4.206       6.572\n",
            "pclass        -1.2422      0.163     -7.612      0.000      -1.562      -0.922\n",
            "sex           -2.6348      0.220    -11.998      0.000      -3.065      -2.204\n",
            "age           -0.0440      0.008     -5.374      0.000      -0.060      -0.028\n",
            "fare           0.0022      0.002      0.866      0.386      -0.003       0.007\n",
            "parch         -0.0619      0.123     -0.504      0.614      -0.303       0.179\n",
            "sibsp         -0.3758      0.127     -2.950      0.003      -0.625      -0.126\n",
            "==============================================================================\n",
            "OR\n",
            "Intercept    218.984972\n",
            "pclass         0.288734\n",
            "sex            0.071730\n",
            "age            0.956999\n",
            "fare           1.002162\n",
            "parch          0.939942\n",
            "sibsp          0.686771\n",
            "dtype: float64\n"
          ]
        }
      ]
    },
    {
      "cell_type": "code",
      "source": [
        "#아파트  매매가격의 요인 분석\n",
        "\n",
        "#독립변수 : 면적(size), 아파트가 얼마나 오래되었는지(age), 편의시설(kindergarten(어린이집), elementarySchool(초등학교까지의 거리), busStop(버스정류장까지의 거리),\n",
        "#           hospital(병/의원까지의 거리), mart(마트까지의 거리))\n",
        "\n",
        "import pandas as pd\n",
        "import matplotlib.pylab as plt\n",
        "from statsmodels.formula.api import ols\n",
        "from sklearn.linear_model import LinearRegression\n",
        "\n",
        "price = [174000, 156500, 168000, 145000, 172500, 178000, 168500, 176000, 205000,\n",
        "         166800, 169000, 152300, 169500, 164000, 153500, 153500, 147500, 123500,\n",
        "         115000, 132000, 132000, 127500, 136800, 135000, 140000, 137700, 130000,\n",
        "         136500, 99900, 105000, 126000, 126000, 103000, 106000, 148000, 131000,\n",
        "         133000, 108500, 97000, 167000, 95000, 95000, 143000, 107000, 119000,\n",
        "         96000, 129700, 104700, 152000, 100000, 102500, 106000, 113000, 109000,\n",
        "         109800, 141000, 136000, 133000, 115000, 155000, 134000, 130000, 140000,\n",
        "         117500, 138800, 149000, 100000, 139500, 160500, 150000]\n",
        "size  = [152, 118, 118, 85, 118, 152, 118, 152, 162, 118, 118, 85, 118, 118, 85,\n",
        "         85, 85, 85, 85, 85, 85, 85, 85, 85, 85, 85, 85, 85, 60, 60, 85, 85, 60,\n",
        "         60, 169, 85, 85, 60, 60, 169, 60, 60, 112, 112, 85, 60, 85, 60, 112,\n",
        "         85, 60, 60, 60, 60, 60, 138, 85, 85, 60, 138, 85, 85, 85, 60, 85, 128,\n",
        "         59, 128, 128, 115]\n",
        "age = [19, 19, 19, 19, 19, 19, 19, 19, 19, 19, 19, 19, 19, 19, 19, 19, 19, 19,\n",
        "       19,19, 19, 19, 18, 18, 18, 18, 18, 18, 23, 23, 23, 23, 23, 23, 23, 23,\n",
        "       23, 23, 23, 23, 22, 22, 22, 22, 22, 22, 22, 22, 22, 22, 22, 22, 22, 22,\n",
        "       22, 22, 22, 22, 22, 22, 22, 22, 22, 22, 22, 11, 11, 11, 11, 11]\n",
        "kindergarten = [22, 22, 22, 22, 22, 22, 22, 22, 22, 22, 22, 22, 22, 22, 22, 22,\n",
        "                22, 6, 6, 6, 6, 6, 14, 14, 14, 14, 14, 14, 9, 9, 9, 9, 9, 9, 9,\n",
        "                9, 9, 9, 9, 9, 6, 6, 6, 6, 6, 6, 6, 6, 6, 10, 10, 10, 10, 10,\n",
        "                10, 10, 10, 10, 10, 10, 10, 10, 10, 10, 10, 4, 4, 4, 4, 4]\n",
        "elementarySchool = [10, 10, 10, 10, 10, 10, 10, 10, 10, 10, 10, 10, 10, 10, 10,\n",
        "                    10, 10, 7, 7, 7, 7, 7, 8, 8, 8, 8, 8, 8, 2, 2, 2, 2, 2, 2,\n",
        "                    2, 2, 2, 2, 2, 2, 10, 10, 10, 10, 10, 10, 10, 10, 10, 7, 7,\n",
        "                    7, 7, 7, 7, 7, 7, 7, 7, 7, 7, 7, 7, 7, 7, 12, 12, 12, 12, 12]\n",
        "busStop = [13, 13, 13, 13, 13, 13, 13, 13, 13, 13, 13, 13, 13, 13, 13, 13, 13,\n",
        "           32, 32, 32, 32, 32, 16, 16, 16, 16, 16, 16, 12, 12, 12, 12, 12, 12,\n",
        "           12, 12, 12, 12, 12, 12, 15, 15, 15, 15, 15, 15, 15, 15, 15, 13, 13, 13,\n",
        "           13, 13, 13, 13, 13, 13, 13, 13, 13, 13, 13, 13, 13, 29, 29, 29, 29, 29]\n",
        "hospital = [19, 19, 19, 19, 19, 19, 19, 19, 19, 19, 19, 19, 19, 19, 19, 19, 19,\n",
        "            20, 20, 20, 20, 20, 20, 20, 20, 20, 20, 20, 12, 12, 12, 12, 12, 12,\n",
        "            12, 12, 12, 12, 12, 12, 16, 16, 16, 16, 16, 16, 16, 16, 16, 19, 19, 19,\n",
        "            19, 19, 19, 19, 19, 19, 19, 19, 19, 19, 19, 19, 19, 14, 14, 14, 14, 14]\n",
        "mart = [19, 19, 19, 19, 19, 19, 19, 19, 19, 19, 19, 19, 19, 19, 19, 19, 19, 17,\n",
        "        17, 17, 17, 17, 21, 21, 21, 21, 21, 21, 23, 23, 23, 23, 23, 23, 23, 23,\n",
        "        23, 23, 23, 23, 15, 15, 15, 15, 15, 15, 15, 15, 15, 19, 19, 19, 19, 19,\n",
        "        19, 19, 19, 19, 19, 19, 19, 19, 19, 19, 19, 14, 14, 14, 14, 14]\n",
        "\n",
        "data = {'price' : price, 'size' : size, 'age' : age, 'kindergarten' : kindergarten, 'elementarySchool' : elementarySchool, \\\n",
        "        'busStop': busStop, 'hospital':hospital, 'mart':mart}\n",
        "df = pd.DataFrame(data)\n",
        "\n",
        "fit = ols('price ~ size + age + kindergarten + elementarySchool + busStop + hospital + mart', data=df).fit()\n",
        "print(fit.summary())\n",
        "\n",
        "#수정된 결정계수 = 0.862, 이 모형은 86.2%의 설명력을 갖춤\n",
        "#유의한 변수는 size, kindergarten\n",
        "#변수 size의 계수는 534.9026, kindergarten의 계수는 1927.0880\n",
        "#모형 : price = 0.0000169 + (534.9026)*size + (1927.0880)*kindergarten + e\n",
        "#아파트 매매가격에 영향을 미치는 요인 : 면적과 유치원까지의 거리\n",
        "#면적이 1 제곱미터 커질 때 매매가격이 약 535만원 비싸지며, 유치원까지 도보 소요시간이 1분 증가할 때 매매가격이 약 1,927만원 비싸짐\n",
        "#그러나, 특정 지점까지 도보 소요시간이 길어질수록 매매가격이 비싸진다는 해석은 일반적이지 않음.\n",
        "#데이터의 시간적, 공간적 범위르 넓히고 독립변수도 추가하여 다시 분석해 볼 필요가 있음."
      ],
      "metadata": {
        "id": "z15k7MBdiiYC",
        "colab": {
          "base_uri": "https://localhost:8080/"
        },
        "outputId": "63c10058-5dcd-4a5b-d17e-7744d5dbc719"
      },
      "execution_count": 4,
      "outputs": [
        {
          "output_type": "stream",
          "name": "stdout",
          "text": [
            "                            OLS Regression Results                            \n",
            "==============================================================================\n",
            "Dep. Variable:                  price   R-squared:                       0.876\n",
            "Model:                            OLS   Adj. R-squared:                  0.862\n",
            "Method:                 Least Squares   F-statistic:                     62.45\n",
            "Date:                Tue, 28 Nov 2023   Prob (F-statistic):           1.11e-25\n",
            "Time:                        05:23:49   Log-Likelihood:                -734.71\n",
            "No. Observations:                  70   AIC:                             1485.\n",
            "Df Residuals:                      62   BIC:                             1503.\n",
            "Df Model:                           7                                         \n",
            "Covariance Type:            nonrobust                                         \n",
            "====================================================================================\n",
            "                       coef    std err          t      P>|t|      [0.025      0.975]\n",
            "------------------------------------------------------------------------------------\n",
            "Intercept         1.169e+05   1.23e+05      0.948      0.347    -1.3e+05    3.64e+05\n",
            "size               534.9026     43.081     12.416      0.000     448.785     621.021\n",
            "age              -1460.9677   1754.535     -0.833      0.408   -4968.233    2046.298\n",
            "kindergarten      1927.0880    591.638      3.257      0.002     744.421    3109.755\n",
            "elementarySchool -1599.1185   3858.456     -0.414      0.680   -9312.062    6113.825\n",
            "busStop            -13.2131    730.790     -0.018      0.986   -1474.042    1447.616\n",
            "hospital           737.2488    891.948      0.827      0.412   -1045.730    2520.227\n",
            "mart             -1372.4907   3583.901     -0.383      0.703   -8536.606    5791.625\n",
            "==============================================================================\n",
            "Omnibus:                        4.208   Durbin-Watson:                   2.150\n",
            "Prob(Omnibus):                  0.122   Jarque-Bera (JB):                3.332\n",
            "Skew:                          -0.446   Prob(JB):                        0.189\n",
            "Kurtosis:                       3.589   Cond. No.                     1.17e+04\n",
            "==============================================================================\n",
            "\n",
            "Notes:\n",
            "[1] Standard Errors assume that the covariance matrix of the errors is correctly specified.\n",
            "[2] The condition number is large, 1.17e+04. This might indicate that there are\n",
            "strong multicollinearity or other numerical problems.\n"
          ]
        }
      ]
    }
  ]
}